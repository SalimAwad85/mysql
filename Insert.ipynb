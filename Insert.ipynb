{
 "cells": [
  {
   "cell_type": "markdown",
   "metadata": {},
   "source": [
    "#### Insert"
   ]
  },
  {
   "cell_type": "code",
   "execution_count": 7,
   "metadata": {},
   "outputs": [],
   "source": [
    "import mysql.connector\n",
    "\n",
    "config = {\n",
    "    'user': 'root',\n",
    "    'password': '12345',\n",
    "    'host': 'localhost',\n",
    "    'database': 'mystro'\n",
    "}\n",
    "\n",
    "conn = mysql.connector.connect(**config)\n",
    "cursor = conn.cursor()\n",
    "\n",
    "insert_query = \"INSERT INTO users (fname, lname, age, email) VALUES (%s, %s, %s, %s)\"\n",
    "data = ('Tamer', 'Mr', 48, 'tamer@tameronline.com')\n",
    "\n",
    "cursor.execute(insert_query, data)\n",
    "\n",
    "conn.commit()\n",
    "\n",
    "cursor.close()\n",
    "conn.close()"
   ]
  }
 ],
 "metadata": {
  "kernelspec": {
   "display_name": ".venv",
   "language": "python",
   "name": "python3"
  },
  "language_info": {
   "codemirror_mode": {
    "name": "ipython",
    "version": 3
   },
   "file_extension": ".py",
   "mimetype": "text/x-python",
   "name": "python",
   "nbconvert_exporter": "python",
   "pygments_lexer": "ipython3",
   "version": "3.12.4"
  }
 },
 "nbformat": 4,
 "nbformat_minor": 2
}
